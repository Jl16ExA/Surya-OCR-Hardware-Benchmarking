{
  "cells": [
    {
      "cell_type": "markdown",
      "metadata": {
        "id": "view-in-github",
        "colab_type": "text"
      },
      "source": [
        "<a href=\"https://colab.research.google.com/github/Jl16ExA/Surya-OCR-Hardware-Benchmarking/blob/main/Surya_OCR_Benchmarking_Across_Different_GPUs.ipynb\" target=\"_parent\"><img src=\"https://colab.research.google.com/assets/colab-badge.svg\" alt=\"Open In Colab\"/></a>"
      ]
    },
    {
      "cell_type": "markdown",
      "metadata": {
        "id": "Ek9iPQ_GrWk1"
      },
      "source": [
        "# Surya-OCR-Benchmarking Across Different GPUs"
      ]
    },
    {
      "cell_type": "markdown",
      "source": [
        "This notebook is dedicated to benchmarking the performance of the Surya OCR system across various hardware setups, focusing on GPU utilization and scalability.\n",
        "\n",
        "This is still an early version I made in a Friday evening only testing a single image being processed in different batch sizes.\n",
        "\n",
        "If you have any questions or wish to collaborate, feel free to reach out via my social media platforms. I am always eager to discuss and help.\n",
        "\n",
        "- Developer: Juan David López\n",
        "- GitHub: [Jl16ExA](https://github.com/Jl16ExA/find_your_class_javeriana)\n",
        "- LinkedIn:  [Juan David López Becerra](https://www.linkedin.com/in/juan-david-lopez-becerra-5048271bb/)\n",
        "- Twitter:[ @JLopez_160](https://twitter.com/JLopez_160)"
      ],
      "metadata": {
        "id": "wFqELkFlrYEH"
      }
    },
    {
      "cell_type": "markdown",
      "metadata": {
        "id": "kKXObERErWk3"
      },
      "source": [
        "### Dependencies"
      ]
    },
    {
      "cell_type": "code",
      "execution_count": null,
      "metadata": {
        "id": "o1dR1dcDrWk3",
        "outputId": "89cbcba1-9219-40d2-f71c-bdad5d40528a"
      },
      "outputs": [
        {
          "name": "stdout",
          "output_type": "stream",
          "text": [
            "Requirement already satisfied: py-cpuinfo in /system/conda/miniconda3/envs/cloudspace/lib/python3.10/site-packages (9.0.0)\n",
            "Requirement already satisfied: GPUtil in /system/conda/miniconda3/envs/cloudspace/lib/python3.10/site-packages (1.4.0)\n",
            "Requirement already satisfied: surya-ocr in /system/conda/miniconda3/envs/cloudspace/lib/python3.10/site-packages (0.3.0)\n",
            "Requirement already satisfied: filetype<2.0.0,>=1.2.0 in /system/conda/miniconda3/envs/cloudspace/lib/python3.10/site-packages (from surya-ocr) (1.2.0)\n",
            "Requirement already satisfied: ftfy<7.0.0,>=6.1.3 in /system/conda/miniconda3/envs/cloudspace/lib/python3.10/site-packages (from surya-ocr) (6.2.0)\n",
            "Requirement already satisfied: opencv-python<5.0.0.0,>=4.9.0.80 in /system/conda/miniconda3/envs/cloudspace/lib/python3.10/site-packages (from surya-ocr) (4.9.0.80)\n",
            "Requirement already satisfied: pillow<11.0.0,>=10.2.0 in /system/conda/miniconda3/envs/cloudspace/lib/python3.10/site-packages (from surya-ocr) (10.3.0)\n",
            "Requirement already satisfied: pydantic<3.0.0,>=2.5.3 in /system/conda/miniconda3/envs/cloudspace/lib/python3.10/site-packages (from surya-ocr) (2.7.0)\n",
            "Requirement already satisfied: pydantic-settings<3.0.0,>=2.1.0 in /system/conda/miniconda3/envs/cloudspace/lib/python3.10/site-packages (from surya-ocr) (2.2.1)\n",
            "Requirement already satisfied: pypdfium2<5.0.0,>=4.25.0 in /system/conda/miniconda3/envs/cloudspace/lib/python3.10/site-packages (from surya-ocr) (4.29.0)\n",
            "Requirement already satisfied: python-dotenv<2.0.0,>=1.0.0 in /system/conda/miniconda3/envs/cloudspace/lib/python3.10/site-packages (from surya-ocr) (1.0.1)\n",
            "Requirement already satisfied: tabulate<0.10.0,>=0.9.0 in /system/conda/miniconda3/envs/cloudspace/lib/python3.10/site-packages (from surya-ocr) (0.9.0)\n",
            "Requirement already satisfied: transformers==4.36.2 in /system/conda/miniconda3/envs/cloudspace/lib/python3.10/site-packages (from surya-ocr) (4.36.2)\n",
            "Requirement already satisfied: filelock in /system/conda/miniconda3/envs/cloudspace/lib/python3.10/site-packages (from transformers==4.36.2->surya-ocr) (3.13.4)\n",
            "Requirement already satisfied: huggingface-hub<1.0,>=0.19.3 in /system/conda/miniconda3/envs/cloudspace/lib/python3.10/site-packages (from transformers==4.36.2->surya-ocr) (0.22.2)\n",
            "Requirement already satisfied: numpy>=1.17 in /system/conda/miniconda3/envs/cloudspace/lib/python3.10/site-packages (from transformers==4.36.2->surya-ocr) (1.26.2)\n",
            "Requirement already satisfied: packaging>=20.0 in /system/conda/miniconda3/envs/cloudspace/lib/python3.10/site-packages (from transformers==4.36.2->surya-ocr) (24.0)\n",
            "Requirement already satisfied: pyyaml>=5.1 in /system/conda/miniconda3/envs/cloudspace/lib/python3.10/site-packages (from transformers==4.36.2->surya-ocr) (6.0.1)\n",
            "Requirement already satisfied: regex!=2019.12.17 in /system/conda/miniconda3/envs/cloudspace/lib/python3.10/site-packages (from transformers==4.36.2->surya-ocr) (2023.12.25)\n",
            "Requirement already satisfied: requests in /system/conda/miniconda3/envs/cloudspace/lib/python3.10/site-packages (from transformers==4.36.2->surya-ocr) (2.31.0)\n",
            "Requirement already satisfied: tokenizers<0.19,>=0.14 in /system/conda/miniconda3/envs/cloudspace/lib/python3.10/site-packages (from transformers==4.36.2->surya-ocr) (0.15.2)\n",
            "Requirement already satisfied: safetensors>=0.3.1 in /system/conda/miniconda3/envs/cloudspace/lib/python3.10/site-packages (from transformers==4.36.2->surya-ocr) (0.4.2)\n",
            "Requirement already satisfied: tqdm>=4.27 in /system/conda/miniconda3/envs/cloudspace/lib/python3.10/site-packages (from transformers==4.36.2->surya-ocr) (4.66.2)\n",
            "Requirement already satisfied: wcwidth<0.3.0,>=0.2.12 in /system/conda/miniconda3/envs/cloudspace/lib/python3.10/site-packages (from ftfy<7.0.0,>=6.1.3->surya-ocr) (0.2.13)\n",
            "Requirement already satisfied: annotated-types>=0.4.0 in /system/conda/miniconda3/envs/cloudspace/lib/python3.10/site-packages (from pydantic<3.0.0,>=2.5.3->surya-ocr) (0.6.0)\n",
            "Requirement already satisfied: pydantic-core==2.18.1 in /system/conda/miniconda3/envs/cloudspace/lib/python3.10/site-packages (from pydantic<3.0.0,>=2.5.3->surya-ocr) (2.18.1)\n",
            "Requirement already satisfied: typing-extensions>=4.6.1 in /system/conda/miniconda3/envs/cloudspace/lib/python3.10/site-packages (from pydantic<3.0.0,>=2.5.3->surya-ocr) (4.11.0)\n",
            "Requirement already satisfied: fsspec>=2023.5.0 in /system/conda/miniconda3/envs/cloudspace/lib/python3.10/site-packages (from huggingface-hub<1.0,>=0.19.3->transformers==4.36.2->surya-ocr) (2024.3.1)\n",
            "Requirement already satisfied: charset-normalizer<4,>=2 in /system/conda/miniconda3/envs/cloudspace/lib/python3.10/site-packages (from requests->transformers==4.36.2->surya-ocr) (3.3.2)\n",
            "Requirement already satisfied: idna<4,>=2.5 in /system/conda/miniconda3/envs/cloudspace/lib/python3.10/site-packages (from requests->transformers==4.36.2->surya-ocr) (3.7)\n",
            "Requirement already satisfied: urllib3<3,>=1.21.1 in /system/conda/miniconda3/envs/cloudspace/lib/python3.10/site-packages (from requests->transformers==4.36.2->surya-ocr) (2.2.1)\n",
            "Requirement already satisfied: certifi>=2017.4.17 in /system/conda/miniconda3/envs/cloudspace/lib/python3.10/site-packages (from requests->transformers==4.36.2->surya-ocr) (2024.2.2)\n",
            "Requirement already satisfied: pdf2image in /system/conda/miniconda3/envs/cloudspace/lib/python3.10/site-packages (1.17.0)\n",
            "Requirement already satisfied: Pillow in /system/conda/miniconda3/envs/cloudspace/lib/python3.10/site-packages (10.3.0)\n",
            "Requirement already satisfied: reportlab in /system/conda/miniconda3/envs/cloudspace/lib/python3.10/site-packages (4.1.0)\n",
            "Requirement already satisfied: chardet in /system/conda/miniconda3/envs/cloudspace/lib/python3.10/site-packages (from reportlab) (5.2.0)\n",
            "Looking in indexes: https://download.pytorch.org/whl/cu118\n",
            "Requirement already satisfied: torch in /system/conda/miniconda3/envs/cloudspace/lib/python3.10/site-packages (2.2.1+cu121)\n",
            "Requirement already satisfied: torchvision in /system/conda/miniconda3/envs/cloudspace/lib/python3.10/site-packages (0.17.1+cu121)\n",
            "Requirement already satisfied: torchaudio in /system/conda/miniconda3/envs/cloudspace/lib/python3.10/site-packages (2.2.1+cu118)\n",
            "Requirement already satisfied: filelock in /system/conda/miniconda3/envs/cloudspace/lib/python3.10/site-packages (from torch) (3.13.4)\n",
            "Requirement already satisfied: typing-extensions>=4.8.0 in /system/conda/miniconda3/envs/cloudspace/lib/python3.10/site-packages (from torch) (4.11.0)\n",
            "Requirement already satisfied: sympy in /system/conda/miniconda3/envs/cloudspace/lib/python3.10/site-packages (from torch) (1.12)\n",
            "Requirement already satisfied: networkx in /system/conda/miniconda3/envs/cloudspace/lib/python3.10/site-packages (from torch) (3.3)\n",
            "Requirement already satisfied: jinja2 in /system/conda/miniconda3/envs/cloudspace/lib/python3.10/site-packages (from torch) (3.1.3)\n",
            "Requirement already satisfied: fsspec in /system/conda/miniconda3/envs/cloudspace/lib/python3.10/site-packages (from torch) (2024.3.1)\n",
            "Requirement already satisfied: nvidia-cuda-nvrtc-cu12==12.1.105 in /system/conda/miniconda3/envs/cloudspace/lib/python3.10/site-packages (from torch) (12.1.105)\n",
            "Requirement already satisfied: nvidia-cuda-runtime-cu12==12.1.105 in /system/conda/miniconda3/envs/cloudspace/lib/python3.10/site-packages (from torch) (12.1.105)\n",
            "Requirement already satisfied: nvidia-cuda-cupti-cu12==12.1.105 in /system/conda/miniconda3/envs/cloudspace/lib/python3.10/site-packages (from torch) (12.1.105)\n",
            "Requirement already satisfied: nvidia-cudnn-cu12==8.9.2.26 in /system/conda/miniconda3/envs/cloudspace/lib/python3.10/site-packages (from torch) (8.9.2.26)\n",
            "Requirement already satisfied: nvidia-cublas-cu12==12.1.3.1 in /system/conda/miniconda3/envs/cloudspace/lib/python3.10/site-packages (from torch) (12.1.3.1)\n",
            "Requirement already satisfied: nvidia-cufft-cu12==11.0.2.54 in /system/conda/miniconda3/envs/cloudspace/lib/python3.10/site-packages (from torch) (11.0.2.54)\n",
            "Requirement already satisfied: nvidia-curand-cu12==10.3.2.106 in /system/conda/miniconda3/envs/cloudspace/lib/python3.10/site-packages (from torch) (10.3.2.106)\n",
            "Requirement already satisfied: nvidia-cusolver-cu12==11.4.5.107 in /system/conda/miniconda3/envs/cloudspace/lib/python3.10/site-packages (from torch) (11.4.5.107)\n",
            "Requirement already satisfied: nvidia-cusparse-cu12==12.1.0.106 in /system/conda/miniconda3/envs/cloudspace/lib/python3.10/site-packages (from torch) (12.1.0.106)\n",
            "Requirement already satisfied: nvidia-nccl-cu12==2.19.3 in /system/conda/miniconda3/envs/cloudspace/lib/python3.10/site-packages (from torch) (2.19.3)\n",
            "Requirement already satisfied: nvidia-nvtx-cu12==12.1.105 in /system/conda/miniconda3/envs/cloudspace/lib/python3.10/site-packages (from torch) (12.1.105)\n",
            "Requirement already satisfied: triton==2.2.0 in /system/conda/miniconda3/envs/cloudspace/lib/python3.10/site-packages (from torch) (2.2.0)\n",
            "Requirement already satisfied: nvidia-nvjitlink-cu12 in /system/conda/miniconda3/envs/cloudspace/lib/python3.10/site-packages (from nvidia-cusolver-cu12==11.4.5.107->torch) (12.4.127)\n",
            "Requirement already satisfied: numpy in /system/conda/miniconda3/envs/cloudspace/lib/python3.10/site-packages (from torchvision) (1.26.2)\n",
            "Requirement already satisfied: pillow!=8.3.*,>=5.3.0 in /system/conda/miniconda3/envs/cloudspace/lib/python3.10/site-packages (from torchvision) (10.3.0)\n",
            "Requirement already satisfied: MarkupSafe>=2.0 in /system/conda/miniconda3/envs/cloudspace/lib/python3.10/site-packages (from jinja2->torch) (2.1.5)\n",
            "Requirement already satisfied: mpmath>=0.19 in /system/conda/miniconda3/envs/cloudspace/lib/python3.10/site-packages (from sympy->torch) (1.3.0)\n"
          ]
        }
      ],
      "source": [
        "!pip install py-cpuinfo\n",
        "!pip install GPUtil\n",
        "!pip install surya-ocr\n",
        "!pip install pdf2image Pillow reportlab\n",
        "!pip install torch torchvision torchaudio --index-url https://download.pytorch.org/whl/cu118"
      ]
    },
    {
      "cell_type": "markdown",
      "metadata": {
        "id": "GEPdz17mrWk4"
      },
      "source": [
        "### Load Model"
      ]
    },
    {
      "cell_type": "code",
      "execution_count": null,
      "metadata": {
        "id": "LaiQsicErWk5",
        "outputId": "58f57e41-23da-4d09-f74b-8b6e6ba02eb1"
      },
      "outputs": [
        {
          "name": "stdout",
          "output_type": "stream",
          "text": [
            "Loading detection model vikp/surya_det2 on device cuda with dtype torch.float16\n",
            "Loading recognition model vikp/surya_rec on device cuda with dtype torch.float16\n"
          ]
        }
      ],
      "source": [
        "from PIL import Image\n",
        "from surya.ocr import run_ocr\n",
        "from surya.model.detection.segformer import load_model as load_det_model, load_processor as load_det_processor\n",
        "from surya.model.recognition.model import load_model as load_rec_model\n",
        "from surya.model.recognition.processor import load_processor as load_rec_processor\n",
        "\n",
        "langs = [\"es\", \"en\"] # Replace with your languages\n",
        "det_processor, det_model = load_det_processor(), load_det_model()\n",
        "rec_model, rec_processor = load_rec_model(), load_rec_processor()"
      ]
    },
    {
      "cell_type": "markdown",
      "source": [
        "### Run Benchmark"
      ],
      "metadata": {
        "id": "5iDrSqmltK_w"
      }
    },
    {
      "cell_type": "code",
      "execution_count": null,
      "metadata": {
        "id": "TBUWj7ozrWk5",
        "outputId": "86d92025-8431-420f-cd4a-8d253d7b53e1"
      },
      "outputs": [
        {
          "name": "stdout",
          "output_type": "stream",
          "text": [
            "Running batch size: 1\n"
          ]
        },
        {
          "name": "stderr",
          "output_type": "stream",
          "text": [
            "Detecting bboxes: 100%|██████████| 1/1 [00:00<00:00,  1.72it/s]\n",
            "Recognizing Text:   0%|          | 0/1 [00:00<?, ?it/s]/home/zeus/miniconda3/envs/cloudspace/lib/python3.10/site-packages/transformers/generation/utils.py:1518: UserWarning: You have modified the pretrained model configuration to control generation. This is a deprecated strategy to control generation and will be removed soon, in a future version. Please use and modify the model generation configuration (see https://huggingface.co/docs/transformers/generation_strategies#default-text-generation-configuration )\n",
            "  warnings.warn(\n",
            "Recognizing Text: 100%|██████████| 1/1 [00:04<00:00,  4.22s/it]\n"
          ]
        },
        {
          "name": "stdout",
          "output_type": "stream",
          "text": [
            "Batch Size 1: Completed in 14.66 seconds.\n",
            "Running batch size: 2\n"
          ]
        },
        {
          "name": "stderr",
          "output_type": "stream",
          "text": [
            "Detecting bboxes: 100%|██████████| 1/1 [00:00<00:00,  2.76it/s]\n",
            "Recognizing Text: 100%|██████████| 1/1 [00:02<00:00,  2.74s/it]\n"
          ]
        },
        {
          "name": "stdout",
          "output_type": "stream",
          "text": [
            "Batch Size 2: Completed in 13.65 seconds.\n",
            "Running batch size: 4\n"
          ]
        },
        {
          "name": "stderr",
          "output_type": "stream",
          "text": [
            "Detecting bboxes: 100%|██████████| 1/1 [00:00<00:00,  1.37it/s]\n",
            "Recognizing Text: 100%|██████████| 1/1 [00:02<00:00,  2.77s/it]\n"
          ]
        },
        {
          "name": "stdout",
          "output_type": "stream",
          "text": [
            "Batch Size 4: Completed in 14.51 seconds.\n",
            "Running batch size: 8\n"
          ]
        },
        {
          "name": "stderr",
          "output_type": "stream",
          "text": [
            "Detecting bboxes: 100%|██████████| 1/1 [00:01<00:00,  1.75s/it]\n",
            "Recognizing Text: 100%|██████████| 1/1 [00:02<00:00,  2.69s/it]\n"
          ]
        },
        {
          "name": "stdout",
          "output_type": "stream",
          "text": [
            "Batch Size 8: Completed in 17.19 seconds.\n",
            "Running batch size: 16\n"
          ]
        },
        {
          "name": "stderr",
          "output_type": "stream",
          "text": [
            "Detecting bboxes: 100%|██████████| 2/2 [00:02<00:00,  1.49s/it]\n",
            "Recognizing Text: 100%|██████████| 1/1 [00:02<00:00,  2.70s/it]\n"
          ]
        },
        {
          "name": "stdout",
          "output_type": "stream",
          "text": [
            "Batch Size 16: Completed in 24.06 seconds.\n",
            "Running batch size: 32\n"
          ]
        },
        {
          "name": "stderr",
          "output_type": "stream",
          "text": [
            "Detecting bboxes: 100%|██████████| 4/4 [00:05<00:00,  1.49s/it]\n",
            "Recognizing Text:   0%|          | 0/1 [00:00<?, ?it/s]"
          ]
        }
      ],
      "source": [
        "import os\n",
        "import time\n",
        "import pandas as pd\n",
        "from PIL import Image\n",
        "import platform\n",
        "import cpuinfo\n",
        "import GPUtil\n",
        "import psutil\n",
        "\n",
        "# Define standard deep learning batch sizes to test\n",
        "batch_sizes = [1, 2, 4, 8, 16, 32, 64, 128, 256, 512, 1024]\n",
        "\n",
        "# Create a DataFrame to store results\n",
        "results = pd.DataFrame()\n",
        "\n",
        "# Load and preprocess the image\n",
        "image_path = \"path/to/png\"\n",
        "image = Image.open(image_path)\n",
        "image = image.resize((2048, int(image.height * 2048 / image.width)))\n",
        "\n",
        "def get_system_resources():\n",
        "    gpus = GPUtil.getGPUs()\n",
        "    if gpus:\n",
        "        gpu = gpus[0]\n",
        "        gpu_name = gpu.name\n",
        "        total_gpu_memory = gpu.memoryTotal\n",
        "        free_gpu_memory = gpu.memoryFree\n",
        "        used_gpu_memory = gpu.memoryUsed\n",
        "    else:\n",
        "        gpu_name = 'No GPU detected'\n",
        "        total_gpu_memory = free_gpu_memory = used_gpu_memory = 0\n",
        "\n",
        "    virtual_memory = psutil.virtual_memory()\n",
        "    total_ram = virtual_memory.total / (1024 ** 3)  # Convert from Bytes to GB\n",
        "    available_ram = virtual_memory.available / (1024 ** 3)\n",
        "    used_ram = virtual_memory.used / (1024 ** 3)\n",
        "\n",
        "    return {\n",
        "        'CPU': cpuinfo.get_cpu_info()['brand_raw'],\n",
        "        'OS': platform.system() + \" \" + platform.release(),\n",
        "        'GPU': gpu_name,\n",
        "        'Total GPU Memory (GB)': total_gpu_memory / 1024,  # Convert MB to GB\n",
        "        'Free GPU Memory (GB)': free_gpu_memory / 1024,\n",
        "        'Used GPU Memory (GB)': used_gpu_memory / 1024,\n",
        "        'Total RAM (GB)': total_ram,\n",
        "        'Available RAM (GB)': available_ram,\n",
        "        'Used RAM (GB)': used_ram\n",
        "    }\n",
        "\n",
        "memory_error_occurred = False\n",
        "\n",
        "for batch_size in batch_sizes:\n",
        "    os.environ['RECOGNITION_BATCH_SIZE'] = str(batch_size)\n",
        "    images = [image.copy() for _ in range(batch_size)]\n",
        "    print(f\"Running batch size: {batch_size}\")\n",
        "    if not memory_error_occurred:\n",
        "        try:\n",
        "            start_time = time.time()\n",
        "            predictions_ocr = run_ocr(images, [langs], det_model, det_processor, rec_model, rec_processor)  # Define these variables and function\n",
        "            end_time = time.time()\n",
        "            elapsed_time = end_time - start_time\n",
        "            print(f\"Batch Size {batch_size}: Completed in {elapsed_time:.2f} seconds.\")\n",
        "        except RuntimeError as e:\n",
        "            if \"CUDA out of memory\" in str(e):\n",
        "                elapsed_time = None\n",
        "                memory_error_occurred = True\n",
        "                print(f\"Batch Size {batch_size} failed: CUDA out of memory.\")\n",
        "            else:\n",
        "                raise  # Re-raise the exception if it's not a memory error\n",
        "    else:\n",
        "        elapsed_time = None\n",
        "        print(f\"Skipping Batch Size {batch_size} due to previous CUDA out of memory error.\")\n",
        "\n",
        "    system_resources = get_system_resources()\n",
        "    system_resources.update({\n",
        "        'Batch Size': batch_size,\n",
        "        'Elapsed Time': elapsed_time,\n",
        "        'Error': 'CUDA out of memory' if elapsed_time is None else None\n",
        "    })\n",
        "    new_row = pd.DataFrame([system_resources])\n",
        "    results = pd.concat([results, new_row], ignore_index=True)\n",
        "    results.to_csv('ocr_benchmark_results.csv', index=False)\n",
        "\n",
        "print(\"Benchmarking completed. Results saved to 'ocr_benchmark_results.csv'.\")\n"
      ]
    }
  ],
  "metadata": {
    "kernelspec": {
      "display_name": "cloudspace",
      "language": "python",
      "name": "python3"
    },
    "language_info": {
      "codemirror_mode": {
        "name": "ipython",
        "version": 3
      },
      "file_extension": ".py",
      "mimetype": "text/x-python",
      "name": "python",
      "nbconvert_exporter": "python",
      "pygments_lexer": "ipython3",
      "version": "3.10.10"
    },
    "colab": {
      "provenance": [],
      "include_colab_link": true
    }
  },
  "nbformat": 4,
  "nbformat_minor": 0
}